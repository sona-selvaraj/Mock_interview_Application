{
 "cells": [
  {
   "cell_type": "code",
   "execution_count": 1,
   "id": "8beabbdf-a925-43d4-b77d-e42e17c2c33a",
   "metadata": {},
   "outputs": [
    {
     "name": "stdout",
     "output_type": "stream",
     "text": [
      "Requirement already satisfied: pip in /Library/Frameworks/Python.framework/Versions/3.13/lib/python3.13/site-packages (25.0.1)\n",
      "Requirement already satisfied: setuptools in /Library/Frameworks/Python.framework/Versions/3.13/lib/python3.13/site-packages (76.0.0)\n",
      "Requirement already satisfied: wheel in /Library/Frameworks/Python.framework/Versions/3.13/lib/python3.13/site-packages (0.45.1)\n",
      "Requirement already satisfied: torch in /Library/Frameworks/Python.framework/Versions/3.13/lib/python3.13/site-packages (2.6.0)\n",
      "Requirement already satisfied: numpy in /Library/Frameworks/Python.framework/Versions/3.13/lib/python3.13/site-packages (2.1.3)\n",
      "Requirement already satisfied: filelock in /Library/Frameworks/Python.framework/Versions/3.13/lib/python3.13/site-packages (from torch) (3.13.1)\n",
      "Requirement already satisfied: typing-extensions>=4.10.0 in /Library/Frameworks/Python.framework/Versions/3.13/lib/python3.13/site-packages (from torch) (4.12.2)\n",
      "Requirement already satisfied: networkx in /Library/Frameworks/Python.framework/Versions/3.13/lib/python3.13/site-packages (from torch) (3.3)\n",
      "Requirement already satisfied: jinja2 in /Library/Frameworks/Python.framework/Versions/3.13/lib/python3.13/site-packages (from torch) (3.1.6)\n",
      "Requirement already satisfied: fsspec in /Library/Frameworks/Python.framework/Versions/3.13/lib/python3.13/site-packages (from torch) (2024.6.1)\n",
      "Requirement already satisfied: setuptools in /Library/Frameworks/Python.framework/Versions/3.13/lib/python3.13/site-packages (from torch) (76.0.0)\n",
      "Requirement already satisfied: sympy==1.13.1 in /Library/Frameworks/Python.framework/Versions/3.13/lib/python3.13/site-packages (from torch) (1.13.1)\n",
      "Requirement already satisfied: mpmath<1.4,>=1.1.0 in /Library/Frameworks/Python.framework/Versions/3.13/lib/python3.13/site-packages (from sympy==1.13.1->torch) (1.3.0)\n",
      "Requirement already satisfied: MarkupSafe>=2.0 in /Library/Frameworks/Python.framework/Versions/3.13/lib/python3.13/site-packages (from jinja2->torch) (3.0.2)\n",
      "Collecting git+https://github.com/openai/whisper.git\n",
      "  Cloning https://github.com/openai/whisper.git to /private/var/folders/wc/zvrqyr9n1hv9nw1xjnbts6l00000gn/T/pip-req-build-4iw8im9q\n",
      "  Running command git clone --filter=blob:none --quiet https://github.com/openai/whisper.git /private/var/folders/wc/zvrqyr9n1hv9nw1xjnbts6l00000gn/T/pip-req-build-4iw8im9q\n",
      "  Resolved https://github.com/openai/whisper.git to commit 517a43ecd132a2089d85f4ebc044728a71d49f6e\n",
      "  Installing build dependencies ... \u001b[?25done\n",
      "\u001b[?25h  Getting requirements to build wheel ... \u001b[?25ldone\n",
      "\u001b[?25h  Preparing metadata (pyproject.toml) ... \u001b[?25ldone\n",
      "\u001b[?25hRequirement already satisfied: more-itertools in /Library/Frameworks/Python.framework/Versions/3.13/lib/python3.13/site-packages (from openai-whisper==20240930) (10.6.0)\n",
      "Requirement already satisfied: numba in /Library/Frameworks/Python.framework/Versions/3.13/lib/python3.13/site-packages (from openai-whisper==20240930) (0.61.0)\n",
      "Requirement already satisfied: numpy in /Library/Frameworks/Python.framework/Versions/3.13/lib/python3.13/site-packages (from openai-whisper==20240930) (2.1.3)\n",
      "Requirement already satisfied: tiktoken in /Library/Frameworks/Python.framework/Versions/3.13/lib/python3.13/site-packages (from openai-whisper==20240930) (0.9.0)\n",
      "Requirement already satisfied: torch in /Library/Frameworks/Python.framework/Versions/3.13/lib/python3.13/site-packages (from openai-whisper==20240930) (2.6.0)\n",
      "Requirement already satisfied: tqdm in /Library/Frameworks/Python.framework/Versions/3.13/lib/python3.13/site-packages (from openai-whisper==20240930) (4.67.1)\n",
      "Requirement already satisfied: llvmlite<0.45,>=0.44.0dev0 in /Library/Frameworks/Python.framework/Versions/3.13/lib/python3.13/site-packages (from numba->openai-whisper==20240930) (0.44.0)\n",
      "Requirement already satisfied: regex>=2022.1.18 in /Library/Frameworks/Python.framework/Versions/3.13/lib/python3.13/site-packages (from tiktoken->openai-whisper==20240930) (2024.11.6)\n",
      "Requirement already satisfied: requests>=2.26.0 in /Library/Frameworks/Python.framework/Versions/3.13/lib/python3.13/site-packages (from tiktoken->openai-whisper==20240930) (2.32.3)\n",
      "Requirement already satisfied: filelock in /Library/Frameworks/Python.framework/Versions/3.13/lib/python3.13/site-packages (from torch->openai-whisper==20240930) (3.13.1)\n",
      "Requirement already satisfied: typing-extensions>=4.10.0 in /Library/Frameworks/Python.framework/Versions/3.13/lib/python3.13/site-packages (from torch->openai-whisper==20240930) (4.12.2)\n",
      "Requirement already satisfied: networkx in /Library/Frameworks/Python.framework/Versions/3.13/lib/python3.13/site-packages (from torch->openai-whisper==20240930) (3.3)\n",
      "Requirement already satisfied: jinja2 in /Library/Frameworks/Python.framework/Versions/3.13/lib/python3.13/site-packages (from torch->openai-whisper==20240930) (3.1.6)\n",
      "Requirement already satisfied: fsspec in /Library/Frameworks/Python.framework/Versions/3.13/lib/python3.13/site-packages (from torch->openai-whisper==20240930) (2024.6.1)\n",
      "Requirement already satisfied: setuptools in /Library/Frameworks/Python.framework/Versions/3.13/lib/python3.13/site-packages (from torch->openai-whisper==20240930) (76.0.0)\n",
      "Requirement already satisfied: sympy==1.13.1 in /Library/Frameworks/Python.framework/Versions/3.13/lib/python3.13/site-packages (from torch->openai-whisper==20240930) (1.13.1)\n",
      "Requirement already satisfied: mpmath<1.4,>=1.1.0 in /Library/Frameworks/Python.framework/Versions/3.13/lib/python3.13/site-packages (from sympy==1.13.1->torch->openai-whisper==20240930) (1.3.0)\n",
      "Requirement already satisfied: charset-normalizer<4,>=2 in /Library/Frameworks/Python.framework/Versions/3.13/lib/python3.13/site-packages (from requests>=2.26.0->tiktoken->openai-whisper==20240930) (3.4.1)\n",
      "Requirement already satisfied: idna<4,>=2.5 in /Library/Frameworks/Python.framework/Versions/3.13/lib/python3.13/site-packages (from requests>=2.26.0->tiktoken->openai-whisper==20240930) (3.10)\n",
      "Requirement already satisfied: urllib3<3,>=1.21.1 in /Library/Frameworks/Python.framework/Versions/3.13/lib/python3.13/site-packages (from requests>=2.26.0->tiktoken->openai-whisper==20240930) (2.3.0)\n",
      "Requirement already satisfied: certifi>=2017.4.17 in /Library/Frameworks/Python.framework/Versions/3.13/lib/python3.13/site-packages (from requests>=2.26.0->tiktoken->openai-whisper==20240930) (2025.1.31)\n",
      "Requirement already satisfied: MarkupSafe>=2.0 in /Library/Frameworks/Python.framework/Versions/3.13/lib/python3.13/site-packages (from jinja2->torch->openai-whisper==20240930) (3.0.2)\n"
     ]
    }
   ],
   "source": [
    "!pip3 install --upgrade pip setuptools wheel\n",
    "!pip3 install torch numpy\n",
    "!pip3 install git+https://github.com/openai/whisper.git "
   ]
  },
  {
   "cell_type": "code",
   "execution_count": 2,
   "id": "f81d8a24-3b93-400e-a01d-1b32cfd4d759",
   "metadata": {},
   "outputs": [
    {
     "name": "stdout",
     "output_type": "stream",
     "text": [
      "\u001b[34m==>\u001b[0m \u001b[1mAuto-updating Homebrew...\u001b[0m\n",
      "Adjust how often this is run with HOMEBREW_AUTO_UPDATE_SECS or disable with\n",
      "HOMEBREW_NO_AUTO_UPDATE. Hide these hints with HOMEBREW_NO_ENV_HINTS (see `man brew`).\n",
      "\u001b[34m==>\u001b[0m \u001b[1mAuto-updated Homebrew!\u001b[0m\n",
      "Updated 1 tap (homebrew/core).\n",
      "\u001b[34m==>\u001b[0m \u001b[1mNew Formulae\u001b[0m\n",
      "falcosecurity-libs  gcr                 libgudev            yalantinglibs\n",
      "\n",
      "You have \u001b[1m6\u001b[0m outdated formulae installed.\n",
      "\n",
      "\u001b[33mWarning:\u001b[0m portaudio 19.7.0 is already installed and up-to-date.\n",
      "To reinstall 19.7.0, run:\n",
      "  brew reinstall portaudio\n",
      "Requirement already satisfied: pyaudio in /Library/Frameworks/Python.framework/Versions/3.13/lib/python3.13/site-packages (0.2.14)\n",
      "Requirement already satisfied: SpeechRecognition in /Library/Frameworks/Python.framework/Versions/3.13/lib/python3.13/site-packages (3.14.1)\n",
      "Requirement already satisfied: typing-extensions in /Library/Frameworks/Python.framework/Versions/3.13/lib/python3.13/site-packages (from SpeechRecognition) (4.12.2)\n",
      "Requirement already satisfied: standard-aifc in /Library/Frameworks/Python.framework/Versions/3.13/lib/python3.13/site-packages (from SpeechRecognition) (3.13.0)\n",
      "Requirement already satisfied: audioop-lts in /Library/Frameworks/Python.framework/Versions/3.13/lib/python3.13/site-packages (from SpeechRecognition) (0.2.1)\n",
      "Requirement already satisfied: standard-chunk in /Library/Frameworks/Python.framework/Versions/3.13/lib/python3.13/site-packages (from standard-aifc->SpeechRecognition) (3.13.0)\n"
     ]
    }
   ],
   "source": [
    "!brew install portaudio\n",
    "!pip3 install pyaudio\n",
    "!pip3 install SpeechRecognition"
   ]
  },
  {
   "cell_type": "markdown",
   "id": "928758c1-50b0-426c-8b11-485354ddaabb",
   "metadata": {},
   "source": [
    "Speech to text"
   ]
  },
  {
   "cell_type": "code",
   "execution_count": 3,
   "id": "c95d7fcf-0800-4abe-8139-4bbcddd3983a",
   "metadata": {},
   "outputs": [
    {
     "name": "stdout",
     "output_type": "stream",
     "text": [
      "Recording...\n",
      "Recording finished.\n"
     ]
    },
    {
     "name": "stderr",
     "output_type": "stream",
     "text": [
      "/Library/Frameworks/Python.framework/Versions/3.13/lib/python3.13/site-packages/whisper/transcribe.py:132: UserWarning: FP16 is not supported on CPU; using FP32 instead\n",
      "  warnings.warn(\"FP16 is not supported on CPU; using FP32 instead\")\n"
     ]
    },
    {
     "name": "stdout",
     "output_type": "stream",
     "text": [
      "Transcription:  Hi my name is Sona Selvraj, I am currently pursuing my Masters in Computer Science at Clark University. I am looking for data on others and machine learning engineering roles.\n",
      "\n",
      "Final Transcription:\n",
      "[' Hi my name is Sona Selvraj, I am currently pursuing my Masters in Computer Science at Clark University. I am looking for data on others and machine learning engineering roles.']\n"
     ]
    }
   ],
   "source": [
    "import whisper\n",
    "import pyaudio\n",
    "import wave\n",
    "import numpy as np\n",
    "import time\n",
    "\n",
    "# Load Whisper model\n",
    "model = whisper.load_model(\"base\")  # You can choose a different model like 'small', 'medium', 'large' etc.\n",
    "\n",
    "# Setup microphone input\n",
    "p = pyaudio.PyAudio()\n",
    "\n",
    "# Define recording parameters\n",
    "FORMAT = pyaudio.paInt16\n",
    "CHANNELS = 1\n",
    "RATE = 16000\n",
    "CHUNK = 1024\n",
    "RECORD_SECONDS = 25  # Record for 15 seconds\n",
    "\n",
    "# Create a list to store transcribed text\n",
    "transcribed_text = []\n",
    "\n",
    "# Function to record and transcribe\n",
    "def record_and_transcribe():\n",
    "    print(\"Recording...\")\n",
    "\n",
    "    # Open the audio stream\n",
    "    stream = p.open(format=FORMAT, channels=CHANNELS, rate=RATE,\n",
    "                    input=True, frames_per_buffer=CHUNK)\n",
    "\n",
    "    frames = []\n",
    "\n",
    "    # Record for 15 seconds\n",
    "    for _ in range(0, int(RATE / CHUNK * RECORD_SECONDS)):\n",
    "        data = stream.read(CHUNK)\n",
    "        frames.append(data)\n",
    "\n",
    "    print(\"Recording finished.\")\n",
    "    stream.stop_stream()\n",
    "    stream.close()\n",
    "\n",
    "    # Save the recorded audio to a temporary file\n",
    "    wf = wave.open(\"temp.wav\", 'wb')\n",
    "    wf.setnchannels(CHANNELS)\n",
    "    wf.setsampwidth(p.get_sample_size(FORMAT))\n",
    "    wf.setframerate(RATE)\n",
    "    wf.writeframes(b''.join(frames))\n",
    "    wf.close()\n",
    "\n",
    "    # Transcribe audio using Whisper\n",
    "    result = model.transcribe(\"temp.wav\")\n",
    "    transcription = result[\"text\"]\n",
    "\n",
    "    # Append the transcription to the list\n",
    "    transcribed_text.append(transcription)\n",
    "    print(f\"Transcription: {transcription}\")\n",
    "\n",
    "    # Optionally, clean up the temp file\n",
    "    # os.remove(\"temp.wav\")\n",
    "\n",
    "# Main loop to record and transcribe\n",
    "record_and_transcribe()\n",
    "\n",
    "# Display the final transcription list\n",
    "print(\"\\nFinal Transcription:\")\n",
    "print(transcribed_text)\n"
   ]
  },
  {
   "cell_type": "code",
   "execution_count": 4,
   "id": "8b3f4159-3f47-4f10-ac45-e021299d043b",
   "metadata": {},
   "outputs": [
    {
     "name": "stdout",
     "output_type": "stream",
     "text": [
      "Requirement already satisfied: pyttsx3 in /Library/Frameworks/Python.framework/Versions/3.13/lib/python3.13/site-packages (2.98)\n",
      "Requirement already satisfied: pyobjc>=2.4 in /Library/Frameworks/Python.framework/Versions/3.13/lib/python3.13/site-packages (from pyttsx3) (11.0)\n",
      "Requirement already satisfied: pyobjc-core==11.0 in /Library/Frameworks/Python.framework/Versions/3.13/lib/python3.13/site-packages (from pyobjc>=2.4->pyttsx3) (11.0)\n",
      "Requirement already satisfied: pyobjc-framework-libdispatch==11.0 in /Library/Frameworks/Python.framework/Versions/3.13/lib/python3.13/site-packages (from pyobjc>=2.4->pyttsx3) (11.0)\n",
      "Requirement already satisfied: pyobjc-framework-libxpc==11.0 in /Library/Frameworks/Python.framework/Versions/3.13/lib/python3.13/site-packages (from pyobjc>=2.4->pyttsx3) (11.0)\n",
      "Requirement already satisfied: pyobjc-framework-Accessibility==11.0 in /Library/Frameworks/Python.framework/Versions/3.13/lib/python3.13/site-packages (from pyobjc>=2.4->pyttsx3) (11.0)\n",
      "Requirement already satisfied: pyobjc-framework-AdServices==11.0 in /Library/Frameworks/Python.framework/Versions/3.13/lib/python3.13/site-packages (from pyobjc>=2.4->pyttsx3) (11.0)\n",
      "Requirement already satisfied: pyobjc-framework-AdSupport==11.0 in /Library/Frameworks/Python.framework/Versions/3.13/lib/python3.13/site-packages (from pyobjc>=2.4->pyttsx3) (11.0)\n",
      "Requirement already satisfied: pyobjc-framework-AppTrackingTransparency==11.0 in /Library/Frameworks/Python.framework/Versions/3.13/lib/python3.13/site-packages (from pyobjc>=2.4->pyttsx3) (11.0)\n",
      "Requirement already satisfied: pyobjc-framework-AudioVideoBridging==11.0 in /Library/Frameworks/Python.framework/Versions/3.13/lib/python3.13/site-packages (from pyobjc>=2.4->pyttsx3) (11.0)\n",
      "Requirement already satisfied: pyobjc-framework-AuthenticationServices==11.0 in /Library/Frameworks/Python.framework/Versions/3.13/lib/python3.13/site-packages (from pyobjc>=2.4->pyttsx3) (11.0)\n",
      "Requirement already satisfied: pyobjc-framework-AutomaticAssessmentConfiguration==11.0 in /Library/Frameworks/Python.framework/Versions/3.13/lib/python3.13/site-packages (from pyobjc>=2.4->pyttsx3) (11.0)\n",
      "Requirement already satisfied: pyobjc-framework-AVKit==11.0 in /Library/Frameworks/Python.framework/Versions/3.13/lib/python3.13/site-packages (from pyobjc>=2.4->pyttsx3) (11.0)\n",
      "Requirement already satisfied: pyobjc-framework-AVFoundation==11.0 in /Library/Frameworks/Python.framework/Versions/3.13/lib/python3.13/site-packages (from pyobjc>=2.4->pyttsx3) (11.0)\n",
      "Requirement already satisfied: pyobjc-framework-AVRouting==11.0 in /Library/Frameworks/Python.framework/Versions/3.13/lib/python3.13/site-packages (from pyobjc>=2.4->pyttsx3) (11.0)\n",
      "Requirement already satisfied: pyobjc-framework-Accounts==11.0 in /Library/Frameworks/Python.framework/Versions/3.13/lib/python3.13/site-packages (from pyobjc>=2.4->pyttsx3) (11.0)\n",
      "Requirement already satisfied: pyobjc-framework-AddressBook==11.0 in /Library/Frameworks/Python.framework/Versions/3.13/lib/python3.13/site-packages (from pyobjc>=2.4->pyttsx3) (11.0)\n",
      "Requirement already satisfied: pyobjc-framework-AppleScriptKit==11.0 in /Library/Frameworks/Python.framework/Versions/3.13/lib/python3.13/site-packages (from pyobjc>=2.4->pyttsx3) (11.0)\n",
      "Requirement already satisfied: pyobjc-framework-AppleScriptObjC==11.0 in /Library/Frameworks/Python.framework/Versions/3.13/lib/python3.13/site-packages (from pyobjc>=2.4->pyttsx3) (11.0)\n",
      "Requirement already satisfied: pyobjc-framework-ApplicationServices==11.0 in /Library/Frameworks/Python.framework/Versions/3.13/lib/python3.13/site-packages (from pyobjc>=2.4->pyttsx3) (11.0)\n",
      "Requirement already satisfied: pyobjc-framework-Automator==11.0 in /Library/Frameworks/Python.framework/Versions/3.13/lib/python3.13/site-packages (from pyobjc>=2.4->pyttsx3) (11.0)\n",
      "Requirement already satisfied: pyobjc-framework-BackgroundAssets==11.0 in /Library/Frameworks/Python.framework/Versions/3.13/lib/python3.13/site-packages (from pyobjc>=2.4->pyttsx3) (11.0)\n",
      "Requirement already satisfied: pyobjc-framework-BrowserEngineKit==11.0 in /Library/Frameworks/Python.framework/Versions/3.13/lib/python3.13/site-packages (from pyobjc>=2.4->pyttsx3) (11.0)\n",
      "Requirement already satisfied: pyobjc-framework-BusinessChat==11.0 in /Library/Frameworks/Python.framework/Versions/3.13/lib/python3.13/site-packages (from pyobjc>=2.4->pyttsx3) (11.0)\n",
      "Requirement already satisfied: pyobjc-framework-CFNetwork==11.0 in /Library/Frameworks/Python.framework/Versions/3.13/lib/python3.13/site-packages (from pyobjc>=2.4->pyttsx3) (11.0)\n",
      "Requirement already satisfied: pyobjc-framework-CalendarStore==11.0 in /Library/Frameworks/Python.framework/Versions/3.13/lib/python3.13/site-packages (from pyobjc>=2.4->pyttsx3) (11.0)\n",
      "Requirement already satisfied: pyobjc-framework-CallKit==11.0 in /Library/Frameworks/Python.framework/Versions/3.13/lib/python3.13/site-packages (from pyobjc>=2.4->pyttsx3) (11.0)\n",
      "Requirement already satisfied: pyobjc-framework-Carbon==11.0 in /Library/Frameworks/Python.framework/Versions/3.13/lib/python3.13/site-packages (from pyobjc>=2.4->pyttsx3) (11.0)\n",
      "Requirement already satisfied: pyobjc-framework-Cinematic==11.0 in /Library/Frameworks/Python.framework/Versions/3.13/lib/python3.13/site-packages (from pyobjc>=2.4->pyttsx3) (11.0)\n",
      "Requirement already satisfied: pyobjc-framework-ClassKit==11.0 in /Library/Frameworks/Python.framework/Versions/3.13/lib/python3.13/site-packages (from pyobjc>=2.4->pyttsx3) (11.0)\n",
      "Requirement already satisfied: pyobjc-framework-CloudKit==11.0 in /Library/Frameworks/Python.framework/Versions/3.13/lib/python3.13/site-packages (from pyobjc>=2.4->pyttsx3) (11.0)\n",
      "Requirement already satisfied: pyobjc-framework-Cocoa==11.0 in /Library/Frameworks/Python.framework/Versions/3.13/lib/python3.13/site-packages (from pyobjc>=2.4->pyttsx3) (11.0)\n",
      "Requirement already satisfied: pyobjc-framework-Collaboration==11.0 in /Library/Frameworks/Python.framework/Versions/3.13/lib/python3.13/site-packages (from pyobjc>=2.4->pyttsx3) (11.0)\n",
      "Requirement already satisfied: pyobjc-framework-ColorSync==11.0 in /Library/Frameworks/Python.framework/Versions/3.13/lib/python3.13/site-packages (from pyobjc>=2.4->pyttsx3) (11.0)\n",
      "Requirement already satisfied: pyobjc-framework-Contacts==11.0 in /Library/Frameworks/Python.framework/Versions/3.13/lib/python3.13/site-packages (from pyobjc>=2.4->pyttsx3) (11.0)\n",
      "Requirement already satisfied: pyobjc-framework-ContactsUI==11.0 in /Library/Frameworks/Python.framework/Versions/3.13/lib/python3.13/site-packages (from pyobjc>=2.4->pyttsx3) (11.0)\n",
      "Requirement already satisfied: pyobjc-framework-CoreAudio==11.0 in /Library/Frameworks/Python.framework/Versions/3.13/lib/python3.13/site-packages (from pyobjc>=2.4->pyttsx3) (11.0)\n",
      "Requirement already satisfied: pyobjc-framework-CoreAudioKit==11.0 in /Library/Frameworks/Python.framework/Versions/3.13/lib/python3.13/site-packages (from pyobjc>=2.4->pyttsx3) (11.0)\n",
      "Requirement already satisfied: pyobjc-framework-CoreBluetooth==11.0 in /Library/Frameworks/Python.framework/Versions/3.13/lib/python3.13/site-packages (from pyobjc>=2.4->pyttsx3) (11.0)\n",
      "Requirement already satisfied: pyobjc-framework-CoreData==11.0 in /Library/Frameworks/Python.framework/Versions/3.13/lib/python3.13/site-packages (from pyobjc>=2.4->pyttsx3) (11.0)\n",
      "Requirement already satisfied: pyobjc-framework-CoreHaptics==11.0 in /Library/Frameworks/Python.framework/Versions/3.13/lib/python3.13/site-packages (from pyobjc>=2.4->pyttsx3) (11.0)\n",
      "Requirement already satisfied: pyobjc-framework-CoreLocation==11.0 in /Library/Frameworks/Python.framework/Versions/3.13/lib/python3.13/site-packages (from pyobjc>=2.4->pyttsx3) (11.0)\n",
      "Requirement already satisfied: pyobjc-framework-CoreMedia==11.0 in /Library/Frameworks/Python.framework/Versions/3.13/lib/python3.13/site-packages (from pyobjc>=2.4->pyttsx3) (11.0)\n",
      "Requirement already satisfied: pyobjc-framework-CoreMediaIO==11.0 in /Library/Frameworks/Python.framework/Versions/3.13/lib/python3.13/site-packages (from pyobjc>=2.4->pyttsx3) (11.0)\n",
      "Requirement already satisfied: pyobjc-framework-CoreMIDI==11.0 in /Library/Frameworks/Python.framework/Versions/3.13/lib/python3.13/site-packages (from pyobjc>=2.4->pyttsx3) (11.0)\n",
      "Requirement already satisfied: pyobjc-framework-CoreML==11.0 in /Library/Frameworks/Python.framework/Versions/3.13/lib/python3.13/site-packages (from pyobjc>=2.4->pyttsx3) (11.0)\n",
      "Requirement already satisfied: pyobjc-framework-CoreMotion==11.0 in /Library/Frameworks/Python.framework/Versions/3.13/lib/python3.13/site-packages (from pyobjc>=2.4->pyttsx3) (11.0)\n",
      "Requirement already satisfied: pyobjc-framework-CoreServices==11.0 in /Library/Frameworks/Python.framework/Versions/3.13/lib/python3.13/site-packages (from pyobjc>=2.4->pyttsx3) (11.0)\n",
      "Requirement already satisfied: pyobjc-framework-CoreSpotlight==11.0 in /Library/Frameworks/Python.framework/Versions/3.13/lib/python3.13/site-packages (from pyobjc>=2.4->pyttsx3) (11.0)\n",
      "Requirement already satisfied: pyobjc-framework-CoreText==11.0 in /Library/Frameworks/Python.framework/Versions/3.13/lib/python3.13/site-packages (from pyobjc>=2.4->pyttsx3) (11.0)\n",
      "Requirement already satisfied: pyobjc-framework-CoreWLAN==11.0 in /Library/Frameworks/Python.framework/Versions/3.13/lib/python3.13/site-packages (from pyobjc>=2.4->pyttsx3) (11.0)\n",
      "Requirement already satisfied: pyobjc-framework-CryptoTokenKit==11.0 in /Library/Frameworks/Python.framework/Versions/3.13/lib/python3.13/site-packages (from pyobjc>=2.4->pyttsx3) (11.0)\n",
      "Requirement already satisfied: pyobjc-framework-DataDetection==11.0 in /Library/Frameworks/Python.framework/Versions/3.13/lib/python3.13/site-packages (from pyobjc>=2.4->pyttsx3) (11.0)\n",
      "Requirement already satisfied: pyobjc-framework-DeviceCheck==11.0 in /Library/Frameworks/Python.framework/Versions/3.13/lib/python3.13/site-packages (from pyobjc>=2.4->pyttsx3) (11.0)\n",
      "Requirement already satisfied: pyobjc-framework-DeviceDiscoveryExtension==11.0 in /Library/Frameworks/Python.framework/Versions/3.13/lib/python3.13/site-packages (from pyobjc>=2.4->pyttsx3) (11.0)\n",
      "Requirement already satisfied: pyobjc-framework-DictionaryServices==11.0 in /Library/Frameworks/Python.framework/Versions/3.13/lib/python3.13/site-packages (from pyobjc>=2.4->pyttsx3) (11.0)\n",
      "Requirement already satisfied: pyobjc-framework-DiscRecording==11.0 in /Library/Frameworks/Python.framework/Versions/3.13/lib/python3.13/site-packages (from pyobjc>=2.4->pyttsx3) (11.0)\n",
      "Requirement already satisfied: pyobjc-framework-DiscRecordingUI==11.0 in /Library/Frameworks/Python.framework/Versions/3.13/lib/python3.13/site-packages (from pyobjc>=2.4->pyttsx3) (11.0)\n",
      "Requirement already satisfied: pyobjc-framework-DiskArbitration==11.0 in /Library/Frameworks/Python.framework/Versions/3.13/lib/python3.13/site-packages (from pyobjc>=2.4->pyttsx3) (11.0)\n",
      "Requirement already satisfied: pyobjc-framework-DVDPlayback==11.0 in /Library/Frameworks/Python.framework/Versions/3.13/lib/python3.13/site-packages (from pyobjc>=2.4->pyttsx3) (11.0)\n",
      "Requirement already satisfied: pyobjc-framework-EventKit==11.0 in /Library/Frameworks/Python.framework/Versions/3.13/lib/python3.13/site-packages (from pyobjc>=2.4->pyttsx3) (11.0)\n",
      "Requirement already satisfied: pyobjc-framework-ExceptionHandling==11.0 in /Library/Frameworks/Python.framework/Versions/3.13/lib/python3.13/site-packages (from pyobjc>=2.4->pyttsx3) (11.0)\n",
      "Requirement already satisfied: pyobjc-framework-ExecutionPolicy==11.0 in /Library/Frameworks/Python.framework/Versions/3.13/lib/python3.13/site-packages (from pyobjc>=2.4->pyttsx3) (11.0)\n",
      "Requirement already satisfied: pyobjc-framework-ExternalAccessory==11.0 in /Library/Frameworks/Python.framework/Versions/3.13/lib/python3.13/site-packages (from pyobjc>=2.4->pyttsx3) (11.0)\n",
      "Requirement already satisfied: pyobjc-framework-ExtensionKit==11.0 in /Library/Frameworks/Python.framework/Versions/3.13/lib/python3.13/site-packages (from pyobjc>=2.4->pyttsx3) (11.0)\n",
      "Requirement already satisfied: pyobjc-framework-FileProvider==11.0 in /Library/Frameworks/Python.framework/Versions/3.13/lib/python3.13/site-packages (from pyobjc>=2.4->pyttsx3) (11.0)\n",
      "Requirement already satisfied: pyobjc-framework-FileProviderUI==11.0 in /Library/Frameworks/Python.framework/Versions/3.13/lib/python3.13/site-packages (from pyobjc>=2.4->pyttsx3) (11.0)\n",
      "Requirement already satisfied: pyobjc-framework-FSEvents==11.0 in /Library/Frameworks/Python.framework/Versions/3.13/lib/python3.13/site-packages (from pyobjc>=2.4->pyttsx3) (11.0)\n",
      "Requirement already satisfied: pyobjc-framework-FinderSync==11.0 in /Library/Frameworks/Python.framework/Versions/3.13/lib/python3.13/site-packages (from pyobjc>=2.4->pyttsx3) (11.0)\n",
      "Requirement already satisfied: pyobjc-framework-GameCenter==11.0 in /Library/Frameworks/Python.framework/Versions/3.13/lib/python3.13/site-packages (from pyobjc>=2.4->pyttsx3) (11.0)\n",
      "Requirement already satisfied: pyobjc-framework-GameController==11.0 in /Library/Frameworks/Python.framework/Versions/3.13/lib/python3.13/site-packages (from pyobjc>=2.4->pyttsx3) (11.0)\n",
      "Requirement already satisfied: pyobjc-framework-HealthKit==11.0 in /Library/Frameworks/Python.framework/Versions/3.13/lib/python3.13/site-packages (from pyobjc>=2.4->pyttsx3) (11.0)\n",
      "Requirement already satisfied: pyobjc-framework-InputMethodKit==11.0 in /Library/Frameworks/Python.framework/Versions/3.13/lib/python3.13/site-packages (from pyobjc>=2.4->pyttsx3) (11.0)\n",
      "Requirement already satisfied: pyobjc-framework-ImageCaptureCore==11.0 in /Library/Frameworks/Python.framework/Versions/3.13/lib/python3.13/site-packages (from pyobjc>=2.4->pyttsx3) (11.0)\n",
      "Requirement already satisfied: pyobjc-framework-Intents==11.0 in /Library/Frameworks/Python.framework/Versions/3.13/lib/python3.13/site-packages (from pyobjc>=2.4->pyttsx3) (11.0)\n",
      "Requirement already satisfied: pyobjc-framework-IntentsUI==11.0 in /Library/Frameworks/Python.framework/Versions/3.13/lib/python3.13/site-packages (from pyobjc>=2.4->pyttsx3) (11.0)\n",
      "Requirement already satisfied: pyobjc-framework-InstallerPlugins==11.0 in /Library/Frameworks/Python.framework/Versions/3.13/lib/python3.13/site-packages (from pyobjc>=2.4->pyttsx3) (11.0)\n",
      "Requirement already satisfied: pyobjc-framework-InstantMessage==11.0 in /Library/Frameworks/Python.framework/Versions/3.13/lib/python3.13/site-packages (from pyobjc>=2.4->pyttsx3) (11.0)\n",
      "Requirement already satisfied: pyobjc-framework-IOBluetooth==11.0 in /Library/Frameworks/Python.framework/Versions/3.13/lib/python3.13/site-packages (from pyobjc>=2.4->pyttsx3) (11.0)\n",
      "Requirement already satisfied: pyobjc-framework-IOBluetoothUI==11.0 in /Library/Frameworks/Python.framework/Versions/3.13/lib/python3.13/site-packages (from pyobjc>=2.4->pyttsx3) (11.0)\n",
      "Requirement already satisfied: pyobjc-framework-IOSurface==11.0 in /Library/Frameworks/Python.framework/Versions/3.13/lib/python3.13/site-packages (from pyobjc>=2.4->pyttsx3) (11.0)\n",
      "Requirement already satisfied: pyobjc-framework-KernelManagement==11.0 in /Library/Frameworks/Python.framework/Versions/3.13/lib/python3.13/site-packages (from pyobjc>=2.4->pyttsx3) (11.0)\n",
      "Requirement already satisfied: pyobjc-framework-LatentSemanticMapping==11.0 in /Library/Frameworks/Python.framework/Versions/3.13/lib/python3.13/site-packages (from pyobjc>=2.4->pyttsx3) (11.0)\n",
      "Requirement already satisfied: pyobjc-framework-LaunchServices==11.0 in /Library/Frameworks/Python.framework/Versions/3.13/lib/python3.13/site-packages (from pyobjc>=2.4->pyttsx3) (11.0)\n",
      "Requirement already satisfied: pyobjc-framework-LinkPresentation==11.0 in /Library/Frameworks/Python.framework/Versions/3.13/lib/python3.13/site-packages (from pyobjc>=2.4->pyttsx3) (11.0)\n",
      "Requirement already satisfied: pyobjc-framework-LocalAuthentication==11.0 in /Library/Frameworks/Python.framework/Versions/3.13/lib/python3.13/site-packages (from pyobjc>=2.4->pyttsx3) (11.0)\n",
      "Requirement already satisfied: pyobjc-framework-LocalAuthenticationEmbeddedUI==11.0 in /Library/Frameworks/Python.framework/Versions/3.13/lib/python3.13/site-packages (from pyobjc>=2.4->pyttsx3) (11.0)\n",
      "Requirement already satisfied: pyobjc-framework-MailKit==11.0 in /Library/Frameworks/Python.framework/Versions/3.13/lib/python3.13/site-packages (from pyobjc>=2.4->pyttsx3) (11.0)\n",
      "Requirement already satisfied: pyobjc-framework-MapKit==11.0 in /Library/Frameworks/Python.framework/Versions/3.13/lib/python3.13/site-packages (from pyobjc>=2.4->pyttsx3) (11.0)\n",
      "Requirement already satisfied: pyobjc-framework-MediaAccessibility==11.0 in /Library/Frameworks/Python.framework/Versions/3.13/lib/python3.13/site-packages (from pyobjc>=2.4->pyttsx3) (11.0)\n",
      "Requirement already satisfied: pyobjc-framework-MediaExtension==11.0 in /Library/Frameworks/Python.framework/Versions/3.13/lib/python3.13/site-packages (from pyobjc>=2.4->pyttsx3) (11.0)\n",
      "Requirement already satisfied: pyobjc-framework-MediaLibrary==11.0 in /Library/Frameworks/Python.framework/Versions/3.13/lib/python3.13/site-packages (from pyobjc>=2.4->pyttsx3) (11.0)\n",
      "Requirement already satisfied: pyobjc-framework-MediaPlayer==11.0 in /Library/Frameworks/Python.framework/Versions/3.13/lib/python3.13/site-packages (from pyobjc>=2.4->pyttsx3) (11.0)\n",
      "Requirement already satisfied: pyobjc-framework-MediaToolbox==11.0 in /Library/Frameworks/Python.framework/Versions/3.13/lib/python3.13/site-packages (from pyobjc>=2.4->pyttsx3) (11.0)\n",
      "Requirement already satisfied: pyobjc-framework-Metal==11.0 in /Library/Frameworks/Python.framework/Versions/3.13/lib/python3.13/site-packages (from pyobjc>=2.4->pyttsx3) (11.0)\n",
      "Requirement already satisfied: pyobjc-framework-MetalFX==11.0 in /Library/Frameworks/Python.framework/Versions/3.13/lib/python3.13/site-packages (from pyobjc>=2.4->pyttsx3) (11.0)\n",
      "Requirement already satisfied: pyobjc-framework-MetalKit==11.0 in /Library/Frameworks/Python.framework/Versions/3.13/lib/python3.13/site-packages (from pyobjc>=2.4->pyttsx3) (11.0)\n",
      "Requirement already satisfied: pyobjc-framework-MetalPerformanceShaders==11.0 in /Library/Frameworks/Python.framework/Versions/3.13/lib/python3.13/site-packages (from pyobjc>=2.4->pyttsx3) (11.0)\n",
      "Requirement already satisfied: pyobjc-framework-MetalPerformanceShadersGraph==11.0 in /Library/Frameworks/Python.framework/Versions/3.13/lib/python3.13/site-packages (from pyobjc>=2.4->pyttsx3) (11.0)\n",
      "Requirement already satisfied: pyobjc-framework-MetricKit==11.0 in /Library/Frameworks/Python.framework/Versions/3.13/lib/python3.13/site-packages (from pyobjc>=2.4->pyttsx3) (11.0)\n",
      "Requirement already satisfied: pyobjc-framework-MLCompute==11.0 in /Library/Frameworks/Python.framework/Versions/3.13/lib/python3.13/site-packages (from pyobjc>=2.4->pyttsx3) (11.0)\n",
      "Requirement already satisfied: pyobjc-framework-ModelIO==11.0 in /Library/Frameworks/Python.framework/Versions/3.13/lib/python3.13/site-packages (from pyobjc>=2.4->pyttsx3) (11.0)\n",
      "Requirement already satisfied: pyobjc-framework-MultipeerConnectivity==11.0 in /Library/Frameworks/Python.framework/Versions/3.13/lib/python3.13/site-packages (from pyobjc>=2.4->pyttsx3) (11.0)\n",
      "Requirement already satisfied: pyobjc-framework-NaturalLanguage==11.0 in /Library/Frameworks/Python.framework/Versions/3.13/lib/python3.13/site-packages (from pyobjc>=2.4->pyttsx3) (11.0)\n",
      "Requirement already satisfied: pyobjc-framework-NetFS==11.0 in /Library/Frameworks/Python.framework/Versions/3.13/lib/python3.13/site-packages (from pyobjc>=2.4->pyttsx3) (11.0)\n",
      "Requirement already satisfied: pyobjc-framework-Network==11.0 in /Library/Frameworks/Python.framework/Versions/3.13/lib/python3.13/site-packages (from pyobjc>=2.4->pyttsx3) (11.0)\n",
      "Requirement already satisfied: pyobjc-framework-NetworkExtension==11.0 in /Library/Frameworks/Python.framework/Versions/3.13/lib/python3.13/site-packages (from pyobjc>=2.4->pyttsx3) (11.0)\n",
      "Requirement already satisfied: pyobjc-framework-NotificationCenter==11.0 in /Library/Frameworks/Python.framework/Versions/3.13/lib/python3.13/site-packages (from pyobjc>=2.4->pyttsx3) (11.0)\n",
      "Requirement already satisfied: pyobjc-framework-OpenDirectory==11.0 in /Library/Frameworks/Python.framework/Versions/3.13/lib/python3.13/site-packages (from pyobjc>=2.4->pyttsx3) (11.0)\n",
      "Requirement already satisfied: pyobjc-framework-OSAKit==11.0 in /Library/Frameworks/Python.framework/Versions/3.13/lib/python3.13/site-packages (from pyobjc>=2.4->pyttsx3) (11.0)\n",
      "Requirement already satisfied: pyobjc-framework-OSLog==11.0 in /Library/Frameworks/Python.framework/Versions/3.13/lib/python3.13/site-packages (from pyobjc>=2.4->pyttsx3) (11.0)\n",
      "Requirement already satisfied: pyobjc-framework-PassKit==11.0 in /Library/Frameworks/Python.framework/Versions/3.13/lib/python3.13/site-packages (from pyobjc>=2.4->pyttsx3) (11.0)\n",
      "Requirement already satisfied: pyobjc-framework-PencilKit==11.0 in /Library/Frameworks/Python.framework/Versions/3.13/lib/python3.13/site-packages (from pyobjc>=2.4->pyttsx3) (11.0)\n",
      "Requirement already satisfied: pyobjc-framework-PHASE==11.0 in /Library/Frameworks/Python.framework/Versions/3.13/lib/python3.13/site-packages (from pyobjc>=2.4->pyttsx3) (11.0)\n",
      "Requirement already satisfied: pyobjc-framework-Photos==11.0 in /Library/Frameworks/Python.framework/Versions/3.13/lib/python3.13/site-packages (from pyobjc>=2.4->pyttsx3) (11.0)\n",
      "Requirement already satisfied: pyobjc-framework-PhotosUI==11.0 in /Library/Frameworks/Python.framework/Versions/3.13/lib/python3.13/site-packages (from pyobjc>=2.4->pyttsx3) (11.0)\n",
      "Requirement already satisfied: pyobjc-framework-PreferencePanes==11.0 in /Library/Frameworks/Python.framework/Versions/3.13/lib/python3.13/site-packages (from pyobjc>=2.4->pyttsx3) (11.0)\n",
      "Requirement already satisfied: pyobjc-framework-PushKit==11.0 in /Library/Frameworks/Python.framework/Versions/3.13/lib/python3.13/site-packages (from pyobjc>=2.4->pyttsx3) (11.0)\n",
      "Requirement already satisfied: pyobjc-framework-Quartz==11.0 in /Library/Frameworks/Python.framework/Versions/3.13/lib/python3.13/site-packages (from pyobjc>=2.4->pyttsx3) (11.0)\n",
      "Requirement already satisfied: pyobjc-framework-QuickLookThumbnailing==11.0 in /Library/Frameworks/Python.framework/Versions/3.13/lib/python3.13/site-packages (from pyobjc>=2.4->pyttsx3) (11.0)\n",
      "Requirement already satisfied: pyobjc-framework-ReplayKit==11.0 in /Library/Frameworks/Python.framework/Versions/3.13/lib/python3.13/site-packages (from pyobjc>=2.4->pyttsx3) (11.0)\n",
      "Requirement already satisfied: pyobjc-framework-SafetyKit==11.0 in /Library/Frameworks/Python.framework/Versions/3.13/lib/python3.13/site-packages (from pyobjc>=2.4->pyttsx3) (11.0)\n",
      "Requirement already satisfied: pyobjc-framework-SafariServices==11.0 in /Library/Frameworks/Python.framework/Versions/3.13/lib/python3.13/site-packages (from pyobjc>=2.4->pyttsx3) (11.0)\n",
      "Requirement already satisfied: pyobjc-framework-ScreenSaver==11.0 in /Library/Frameworks/Python.framework/Versions/3.13/lib/python3.13/site-packages (from pyobjc>=2.4->pyttsx3) (11.0)\n",
      "Requirement already satisfied: pyobjc-framework-ScreenTime==11.0 in /Library/Frameworks/Python.framework/Versions/3.13/lib/python3.13/site-packages (from pyobjc>=2.4->pyttsx3) (11.0)\n",
      "Requirement already satisfied: pyobjc-framework-ScriptingBridge==11.0 in /Library/Frameworks/Python.framework/Versions/3.13/lib/python3.13/site-packages (from pyobjc>=2.4->pyttsx3) (11.0)\n",
      "Requirement already satisfied: pyobjc-framework-Security==11.0 in /Library/Frameworks/Python.framework/Versions/3.13/lib/python3.13/site-packages (from pyobjc>=2.4->pyttsx3) (11.0)\n",
      "Requirement already satisfied: pyobjc-framework-SecurityFoundation==11.0 in /Library/Frameworks/Python.framework/Versions/3.13/lib/python3.13/site-packages (from pyobjc>=2.4->pyttsx3) (11.0)\n",
      "Requirement already satisfied: pyobjc-framework-SecurityInterface==11.0 in /Library/Frameworks/Python.framework/Versions/3.13/lib/python3.13/site-packages (from pyobjc>=2.4->pyttsx3) (11.0)\n",
      "Requirement already satisfied: pyobjc-framework-SearchKit==11.0 in /Library/Frameworks/Python.framework/Versions/3.13/lib/python3.13/site-packages (from pyobjc>=2.4->pyttsx3) (11.0)\n",
      "Requirement already satisfied: pyobjc-framework-ServiceManagement==11.0 in /Library/Frameworks/Python.framework/Versions/3.13/lib/python3.13/site-packages (from pyobjc>=2.4->pyttsx3) (11.0)\n",
      "Requirement already satisfied: pyobjc-framework-ShazamKit==11.0 in /Library/Frameworks/Python.framework/Versions/3.13/lib/python3.13/site-packages (from pyobjc>=2.4->pyttsx3) (11.0)\n",
      "Requirement already satisfied: pyobjc-framework-Social==11.0 in /Library/Frameworks/Python.framework/Versions/3.13/lib/python3.13/site-packages (from pyobjc>=2.4->pyttsx3) (11.0)\n",
      "Requirement already satisfied: pyobjc-framework-Speech==11.0 in /Library/Frameworks/Python.framework/Versions/3.13/lib/python3.13/site-packages (from pyobjc>=2.4->pyttsx3) (11.0)\n",
      "Requirement already satisfied: pyobjc-framework-SpriteKit==11.0 in /Library/Frameworks/Python.framework/Versions/3.13/lib/python3.13/site-packages (from pyobjc>=2.4->pyttsx3) (11.0)\n",
      "Requirement already satisfied: pyobjc-framework-StoreKit==11.0 in /Library/Frameworks/Python.framework/Versions/3.13/lib/python3.13/site-packages (from pyobjc>=2.4->pyttsx3) (11.0)\n",
      "Requirement already satisfied: pyobjc-framework-SyncServices==11.0 in /Library/Frameworks/Python.framework/Versions/3.13/lib/python3.13/site-packages (from pyobjc>=2.4->pyttsx3) (11.0)\n",
      "Requirement already satisfied: pyobjc-framework-SystemConfiguration==11.0 in /Library/Frameworks/Python.framework/Versions/3.13/lib/python3.13/site-packages (from pyobjc>=2.4->pyttsx3) (11.0)\n",
      "Requirement already satisfied: pyobjc-framework-WebKit==11.0 in /Library/Frameworks/Python.framework/Versions/3.13/lib/python3.13/site-packages (from pyobjc>=2.4->pyttsx3) (11.0)\n",
      "Requirement already satisfied: pyobjc-framework-GameKit==11.0 in /Library/Frameworks/Python.framework/Versions/3.13/lib/python3.13/site-packages (from pyobjc>=2.4->pyttsx3) (11.0)\n",
      "Requirement already satisfied: pyobjc-framework-GameplayKit==11.0 in /Library/Frameworks/Python.framework/Versions/3.13/lib/python3.13/site-packages (from pyobjc>=2.4->pyttsx3) (11.0)\n",
      "Requirement already satisfied: pyobjc-framework-SceneKit==11.0 in /Library/Frameworks/Python.framework/Versions/3.13/lib/python3.13/site-packages (from pyobjc>=2.4->pyttsx3) (11.0)\n",
      "Requirement already satisfied: pyobjc-framework-SensitiveContentAnalysis==11.0 in /Library/Frameworks/Python.framework/Versions/3.13/lib/python3.13/site-packages (from pyobjc>=2.4->pyttsx3) (11.0)\n",
      "Requirement already satisfied: pyobjc-framework-SharedWithYouCore==11.0 in /Library/Frameworks/Python.framework/Versions/3.13/lib/python3.13/site-packages (from pyobjc>=2.4->pyttsx3) (11.0)\n",
      "Requirement already satisfied: pyobjc-framework-SharedWithYou==11.0 in /Library/Frameworks/Python.framework/Versions/3.13/lib/python3.13/site-packages (from pyobjc>=2.4->pyttsx3) (11.0)\n",
      "Requirement already satisfied: pyobjc-framework-SoundAnalysis==11.0 in /Library/Frameworks/Python.framework/Versions/3.13/lib/python3.13/site-packages (from pyobjc>=2.4->pyttsx3) (11.0)\n",
      "Requirement already satisfied: pyobjc-framework-ScreenCaptureKit==11.0 in /Library/Frameworks/Python.framework/Versions/3.13/lib/python3.13/site-packages (from pyobjc>=2.4->pyttsx3) (11.0)\n",
      "Requirement already satisfied: pyobjc-framework-Symbols==11.0 in /Library/Frameworks/Python.framework/Versions/3.13/lib/python3.13/site-packages (from pyobjc>=2.4->pyttsx3) (11.0)\n",
      "Requirement already satisfied: pyobjc-framework-SystemExtensions==11.0 in /Library/Frameworks/Python.framework/Versions/3.13/lib/python3.13/site-packages (from pyobjc>=2.4->pyttsx3) (11.0)\n",
      "Requirement already satisfied: pyobjc-framework-ThreadNetwork==11.0 in /Library/Frameworks/Python.framework/Versions/3.13/lib/python3.13/site-packages (from pyobjc>=2.4->pyttsx3) (11.0)\n",
      "Requirement already satisfied: pyobjc-framework-UniformTypeIdentifiers==11.0 in /Library/Frameworks/Python.framework/Versions/3.13/lib/python3.13/site-packages (from pyobjc>=2.4->pyttsx3) (11.0)\n",
      "Requirement already satisfied: pyobjc-framework-UserNotifications==11.0 in /Library/Frameworks/Python.framework/Versions/3.13/lib/python3.13/site-packages (from pyobjc>=2.4->pyttsx3) (11.0)\n",
      "Requirement already satisfied: pyobjc-framework-UserNotificationsUI==11.0 in /Library/Frameworks/Python.framework/Versions/3.13/lib/python3.13/site-packages (from pyobjc>=2.4->pyttsx3) (11.0)\n",
      "Requirement already satisfied: pyobjc-framework-VideoSubscriberAccount==11.0 in /Library/Frameworks/Python.framework/Versions/3.13/lib/python3.13/site-packages (from pyobjc>=2.4->pyttsx3) (11.0)\n",
      "Requirement already satisfied: pyobjc-framework-VideoToolbox==11.0 in /Library/Frameworks/Python.framework/Versions/3.13/lib/python3.13/site-packages (from pyobjc>=2.4->pyttsx3) (11.0)\n",
      "Requirement already satisfied: pyobjc-framework-Virtualization==11.0 in /Library/Frameworks/Python.framework/Versions/3.13/lib/python3.13/site-packages (from pyobjc>=2.4->pyttsx3) (11.0)\n",
      "Requirement already satisfied: pyobjc-framework-Vision==11.0 in /Library/Frameworks/Python.framework/Versions/3.13/lib/python3.13/site-packages (from pyobjc>=2.4->pyttsx3) (11.0)\n",
      "Requirement already satisfied: pyobjc-framework-iTunesLibrary==11.0 in /Library/Frameworks/Python.framework/Versions/3.13/lib/python3.13/site-packages (from pyobjc>=2.4->pyttsx3) (11.0)\n",
      "Requirement already satisfied: gtts in /Library/Frameworks/Python.framework/Versions/3.13/lib/python3.13/site-packages (2.5.4)\n",
      "Requirement already satisfied: requests<3,>=2.27 in /Library/Frameworks/Python.framework/Versions/3.13/lib/python3.13/site-packages (from gtts) (2.32.3)\n",
      "Requirement already satisfied: click<8.2,>=7.1 in /Library/Frameworks/Python.framework/Versions/3.13/lib/python3.13/site-packages (from gtts) (8.1.8)\n",
      "Requirement already satisfied: charset-normalizer<4,>=2 in /Library/Frameworks/Python.framework/Versions/3.13/lib/python3.13/site-packages (from requests<3,>=2.27->gtts) (3.4.1)\n",
      "Requirement already satisfied: idna<4,>=2.5 in /Library/Frameworks/Python.framework/Versions/3.13/lib/python3.13/site-packages (from requests<3,>=2.27->gtts) (3.10)\n",
      "Requirement already satisfied: urllib3<3,>=1.21.1 in /Library/Frameworks/Python.framework/Versions/3.13/lib/python3.13/site-packages (from requests<3,>=2.27->gtts) (2.3.0)\n",
      "Requirement already satisfied: certifi>=2017.4.17 in /Library/Frameworks/Python.framework/Versions/3.13/lib/python3.13/site-packages (from requests<3,>=2.27->gtts) (2025.1.31)\n"
     ]
    }
   ],
   "source": [
    "!pip3 install pyttsx3\n",
    "!pip3 install gtts"
   ]
  },
  {
   "cell_type": "markdown",
   "id": "418435b2-facc-498d-82e3-f0811959d952",
   "metadata": {},
   "source": [
    "Text to Speech"
   ]
  },
  {
   "cell_type": "code",
   "execution_count": 5,
   "id": "5e5ece9a-440a-4f0f-9cee-cf0fc566de18",
   "metadata": {},
   "outputs": [],
   "source": [
    "import pyttsx3\n",
    "\n",
    "def text_to_speech(text):\n",
    "    engine = pyttsx3.init()  # Initialize the TTS engine\n",
    "    \n",
    "    # Set properties (optional)\n",
    "    engine.setProperty('rate', 150)  # Speed of speech\n",
    "    engine.setProperty('volume', 1.0)  # Volume level (0.0 to 1.0)\n",
    "\n",
    "    # Speak the given text\n",
    "    engine.say(text)\n",
    "    engine.runAndWait()\n",
    "\n",
    "if __name__ == \"__main__\":\n",
    "    # text = input(\"Enter text to convert to speech: \")\n",
    "    text_to_speech(\"thank you. Your response is recorded\")\n",
    "\n"
   ]
  },
  {
   "cell_type": "code",
   "execution_count": 6,
   "id": "29d132bb-600d-4c75-9d4a-9a9be36e79cb",
   "metadata": {},
   "outputs": [],
   "source": [
    "import os\n",
    "import platform\n",
    "from gtts import gTTS\n",
    "\n",
    "def text_to_speech(text):\n",
    "    tts = gTTS(text=text, lang='en')\n",
    "    tts.save(\"output.mp3\")\n",
    "\n",
    "    # Detect OS and play the audio\n",
    "    if platform.system() == \"Windows\":\n",
    "        os.system(\"start output.mp3\")  # Windows\n",
    "    elif platform.system() == \"Darwin\":  # macOS\n",
    "        os.system(\"afplay output.mp3\")\n",
    "    elif platform.system() == \"Linux\":\n",
    "        os.system(\"mpg321 output.mp3\")  # Install mpg321 using: sudo apt install mpg321\n",
    "\n",
    "if __name__ == \"__main__\":\n",
    "    # text = input(\"Enter text to÷ convert to speech: \")\n",
    "    text_to_speech(\"thank you. Your response is recorded\")\n"
   ]
  },
  {
   "cell_type": "raw",
   "id": "26bc471f-7f18-4d72-8ccb-e181b273d7a3",
   "metadata": {},
   "source": [
    "OLLAMA Integration"
   ]
  },
  {
   "cell_type": "code",
   "execution_count": 16,
   "id": "7fd8b228-47bd-4c1f-9778-d9e142685717",
   "metadata": {},
   "outputs": [
    {
     "name": "stdout",
     "output_type": "stream",
     "text": [
      "ollama version is 0.5.13\n"
     ]
    }
   ],
   "source": [
    "!ollama --version\n"
   ]
  },
  {
   "cell_type": "code",
   "execution_count": 17,
   "id": "ee054ae0-f238-4d7a-b780-404ace3fc946",
   "metadata": {},
   "outputs": [
    {
     "name": "stdout",
     "output_type": "stream",
     "text": [
      "NAME             ID              SIZE      MODIFIED     \n",
      "llama2:latest    78e26419b446    3.8 GB    24 hours ago    \n"
     ]
    }
   ],
   "source": [
    "!ollama list\n"
   ]
  },
  {
   "cell_type": "code",
   "execution_count": 18,
   "id": "33be8a0d-e642-424b-9215-165db800389f",
   "metadata": {},
   "outputs": [
    {
     "name": "stdout",
     "output_type": "stream",
     "text": [
      "\u001b[?2026h\u001b[?25l\u001b[1G⠙ \u001b[K\u001b[?25h\u001b[?2026l\u001b[?2026h\u001b[?25l\u001b[1G⠹ \u001b[K\u001b[?25h\u001b[?2026l\u001b[?2026h\u001b[?25l\u001b[1G⠹ \u001b[K\u001b[?25h\u001b[?2026l\u001b[?2026h\u001b[?25l\u001b[1G⠼ \u001b[K\u001b[?25h\u001b[?2026l\u001b[?2026h\u001b[?25l\u001b[1G⠴ \u001b[K\u001b[?25h\u001b[?2026l\u001b[?2026h\u001b[?25l\u001b[1G⠴ \u001b[K\u001b[?25h\u001b[?2026l\u001b[?2026h\u001b[?25l\u001b[1G⠧ \u001b[K\u001b[?25h\u001b[?2026l\u001b[?2026h\u001b[?25l\u001b[1G⠇ \u001b[K\u001b[?25h\u001b[?2026l\u001b[?25l\u001b[?2026h\u001b[?25l\u001b[1G\u001b[K\u001b[?25h\u001b[?2026l\u001b[2K\u001b[1G\u001b[?25hOf\u001b[?25l\u001b[?25h course\u001b[?25l\u001b[?25h!\u001b[?25l\u001b[?25h I\u001b[?25l\u001b[?25h'\u001b[?25l\u001b[?25hd\u001b[?25l\u001b[?25h be\u001b[?25l\u001b[?25h happy\u001b[?25l\u001b[?25h to\u001b[?25l\u001b[?25h help\u001b[?25l\u001b[?25h you\u001b[?25l\u001b[?25h prepare\u001b[?25l\u001b[?25h for\u001b[?25l\u001b[?25h your\u001b[?25l\u001b[?25h interview\u001b[?25l\u001b[?25h.\u001b[?25l\u001b[?25h Could\u001b[?25l\u001b[?25h you\u001b[?25l\u001b[?25h p\u001b[1D\u001b[K\n",
      "\u001b[?25l\u001b[?25h provide\u001b[?25l\u001b[?25h some\u001b[?25l\u001b[?25h details\u001b[?25l\u001b[?25h about\u001b[?25l\u001b[?25h the\u001b[?25l\u001b[?25h position\u001b[?25l\u001b[?25h you\u001b[?25l\u001b[?25h are\u001b[?25l\u001b[?25h applying\u001b[?25l\u001b[?25h for\u001b[?25l\u001b[?25h,\u001b[?25l\u001b[?25h such\u001b[?25l\u001b[?25h a\u001b[1D\u001b[K\n",
      "\u001b[?25l\u001b[?25h the\u001b[?25l\u001b[?25h company\u001b[?25l\u001b[?25h,\u001b[?25l\u001b[?25h job\u001b[?25l\u001b[?25h description\u001b[?25l\u001b[?25h,\u001b[?25l\u001b[?25h and\u001b[?25l\u001b[?25h any\u001b[?25l\u001b[?25h specific\u001b[?25l\u001b[?25h skills\u001b[?25l\u001b[?25h or\u001b[?25l\u001b[?25h experiences\u001b[?25l\u001b[?25h the\u001b[3D\u001b[K\n",
      "\u001b[?25l\u001b[?25h looking\u001b[?25l\u001b[?25h for\u001b[?25l\u001b[?25h in\u001b[?25l\u001b[?25h a\u001b[?25l\u001b[?25h candidate\u001b[?25l\u001b[?25h?\u001b[?25l\u001b[?25h This\u001b[?25l\u001b[?25h will\u001b[?25l\u001b[?25h help\u001b[?25l\u001b[?25h me\u001b[?25l\u001b[?25h tail\u001b[?25l\u001b[?25hor\u001b[?25l\u001b[?25h the\u001b[?25l\u001b[?25h mock\u001b[?25l\u001b[?25h inte\u001b[4D\u001b[K\n",
      "\u001b[?25l\u001b[?25h to\u001b[?25l\u001b[?25h your\u001b[?25l\u001b[?25h needs\u001b[?25l\u001b[?25h.\u001b[?25l\u001b[?25h\n",
      "\n",
      "\u001b[?25l\u001b[?25h"
     ]
    }
   ],
   "source": [
    "!ollama run llama2 \"Can you take a mock interview for me for data analyst role?\"\n"
   ]
  },
  {
   "cell_type": "code",
   "execution_count": 10,
   "id": "e962d99c-1ea4-4654-b554-e1b4a189f9a2",
   "metadata": {},
   "outputs": [
    {
     "name": "stdout",
     "output_type": "stream",
     "text": [
      "\u001b[?2026h\u001b[?25l\u001b[1G⠙ \u001b[K\u001b[?25h\u001b[?2026l\u001b[?25l\u001b[?2026h\u001b[?25l\u001b[1G\u001b[K\u001b[?25h\u001b[?2026l\u001b[2K\u001b[1G\u001b[?25h\n",
      "\u001b[?25l\u001b[?25hOf\u001b[?25l\u001b[?25h course\u001b[?25l\u001b[?25h!\u001b[?25l\u001b[?25h I\u001b[?25l\u001b[?25h'\u001b[?25l\u001b[?25hd\u001b[?25l\u001b[?25h be\u001b[?25l\u001b[?25h happy\u001b[?25l\u001b[?25h to\u001b[?25l\u001b[?25h provide\u001b[?25l\u001b[?25h feedback\u001b[?25l\u001b[?25h on\u001b[?25l\u001b[?25h your\u001b[?25l\u001b[?25h responses\u001b[?25l\u001b[?25h.\u001b[?25l\u001b[?25h Please\u001b[?25l\u001b[?25h go\u001b[?25l\u001b[?25h ah\u001b[2D\u001b[K\n",
      "\u001b[?25l\u001b[?25h answer\u001b[?25l\u001b[?25h the\u001b[?25l\u001b[?25h questions\u001b[?25l\u001b[?25h,\u001b[?25l\u001b[?25h and\u001b[?25l\u001b[?25h I\u001b[?25l\u001b[?25h'\u001b[?25l\u001b[?25hll\u001b[?25l\u001b[?25h do\u001b[?25l\u001b[?25h my\u001b[?25l\u001b[?25h best\u001b[?25l\u001b[?25h to\u001b[?25l\u001b[?25h offer\u001b[?25l\u001b[?25h construct\u001b[?25l\u001b[?25hive\u001b[?25l\u001b[?25h f\u001b[1D\u001b[K\n",
      "\u001b[?25l\u001b[?25h5l\u001b[?25h.\n",
      "\n",
      "\u001b[?25l\u001b[?25h"
     ]
    }
   ],
   "source": [
    "!ollama run llama2 \"If I provide response to the above questions can you provide feedback?\""
   ]
  },
  {
   "cell_type": "code",
   "execution_count": 11,
   "id": "8df4ae03-fe30-4edd-9d61-7e7f287e2adf",
   "metadata": {},
   "outputs": [
    {
     "name": "stdout",
     "output_type": "stream",
     "text": [
      "Welcome to Llama Chat! Type 'exit' to quit.\n",
      "\n"
     ]
    },
    {
     "name": "stdin",
     "output_type": "stream",
     "text": [
      "\n",
      "You:  exit\n"
     ]
    },
    {
     "name": "stdout",
     "output_type": "stream",
     "text": [
      "Goodbye!\n"
     ]
    }
   ],
   "source": [
    "import subprocess\n",
    "\n",
    "def chat_with_llama():\n",
    "    print(\"Welcome to Llama Chat! Type 'exit' to quit.\\n\")\n",
    "    \n",
    "    chat_history = []  # Store chat history\n",
    "    \n",
    "    while True:\n",
    "        user_input = input(\"\\nYou: \")\n",
    "        if user_input.lower() == \"exit\":\n",
    "            print(\"Goodbye!\")\n",
    "            break\n",
    "        \n",
    "        # Format the conversation history\n",
    "        chat_history.append(f\"User: {user_input}\")\n",
    "        context = \"\\n\".join(chat_history)  # Combine past messages\n",
    "\n",
    "        # Send full conversation history to Llama\n",
    "        result = subprocess.run([\"ollama\", \"run\", \"llama2\", context], capture_output=True, text=True)\n",
    "\n",
    "        response = result.stdout.strip()\n",
    "        print(\"\\nLlama:\", response)\n",
    "\n",
    "        # Save model's response in history\n",
    "        chat_history.append(f\"Llama: {response}\")\n",
    "\n",
    "chat_with_llama()\n"
   ]
  },
  {
   "cell_type": "code",
   "execution_count": 1,
   "id": "a8380159-9e1f-4f39-984a-79b0689fc7de",
   "metadata": {},
   "outputs": [
    {
     "name": "stdout",
     "output_type": "stream",
     "text": [
      "Please enter the role you are interviewing for:\n"
     ]
    },
    {
     "name": "stdin",
     "output_type": "stream",
     "text": [
      "Role:  java developer\n"
     ]
    },
    {
     "name": "stdout",
     "output_type": "stream",
     "text": [
      "\n",
      "--- Questions for the role of java developer ---\n",
      "Question 1: What is your experience with multi-threading in Java, and how have you used it to improve application performance?\n",
      "Question 2: Can you describe a time when you had to work with a difficult team member or stakeholder? How did you handle the situation, and what was the outcome?\n",
      "Question 3: Suppose you are working on a critical project with a tight deadline, and one of your team members is unable to complete their tasks on time. How would you handle this situation, and how would you ensure that the project is completed on time and to a high standard?\n",
      "\n",
      "Starting the interview. Answer the following questions one by one.\n",
      "\n",
      "Question 1: What is your experience with multi-threading in Java, and how have you used it to improve application performance?\n"
     ]
    },
    {
     "name": "stdin",
     "output_type": "stream",
     "text": [
      "Your answer:  worked on client data using multi-threading\n"
     ]
    },
    {
     "name": "stdout",
     "output_type": "stream",
     "text": [
      "\n",
      "--------------------------------------------------\n",
      "\n",
      "Question 2: Can you describe a time when you had to work with a difficult team member or stakeholder? How did you handle the situation, and what was the outcome?\n"
     ]
    },
    {
     "name": "stdin",
     "output_type": "stream",
     "text": [
      "Your answer:  during my capstone project\n"
     ]
    },
    {
     "name": "stdout",
     "output_type": "stream",
     "text": [
      "\n",
      "--------------------------------------------------\n",
      "\n",
      "Question 3: Suppose you are working on a critical project with a tight deadline, and one of your team members is unable to complete their tasks on time. How would you handle this situation, and how would you ensure that the project is completed on time and to a high standard?\n"
     ]
    },
    {
     "name": "stdin",
     "output_type": "stream",
     "text": [
      "Your answer:  ask more time or do it by myself\n"
     ]
    },
    {
     "name": "stdout",
     "output_type": "stream",
     "text": [
      "\n",
      "--------------------------------------------------\n",
      "\n",
      "\n",
      "--- Feedback ---\n",
      "\n",
      "Question 1: What is your experience with multi-threading in Java, and how have you used it to improve application performance?\n",
      "Your answer: worked on client data using multi-threading\n",
      "Feedback: Great, thank you for sharing your experience with multi-threading! Here are some specific areas where you could provide more detail or context to make your answer even stronger:\n",
      "\n",
      "1. Clarify the purpose of the project: Could you tell me a little bit more about the project you worked on? What was the main goal, and how did using multi-threading help you achieve it?\n",
      "2. Provide specific examples: Instead of just saying \"worked on client data,\" could you give an example or two of what specifically you did with multi-threading? For instance, did you use a particular threading algorithm or library? How did that help optimize the performance of the application?\n",
      "3. Explain the benefits: Why did you choose to use multi-threading in this project? Did it improve the performance of the application in some way? If so, could you elaborate on how?\n",
      "4. Showcase your problem-solving skills: Could you walk me through the process you went through to identify the issue and come up with a solution using multi-threading? How did you determine that multi-threading was the right approach for this particular problem?\n",
      "5. Highlight any additional skills or tools used: Depending on the complexity of the project, you may have used other skills or tools in addition to multi-threading. Could you mention any of these and how they contributed to the success of the project?\n",
      "\n",
      "By providing more detail and context in your answer, you can demonstrate your expertise and problem-solving abilities, which will help the interviewer understand your capabilities better.\n",
      "\n",
      "--------------------------------------------------\n",
      "\n",
      "\n",
      "Question 2: Can you describe a time when you had to work with a difficult team member or stakeholder? How did you handle the situation, and what was the outcome?\n",
      "Your answer: during my capstone project\n",
      "Feedback: Concise Feedback:\n",
      "\n",
      "The answer is too vague and does not provide specific details about the project. To improve, provide more context and details about the project, such as its purpose, methods used, and results achieved. This will help the interviewer understand your capabilities and experience better.\n",
      "\n",
      "Example of improved answer:\n",
      "\n",
      "\"During my capstone project, I designed and implemented a machine learning model to predict patient outcomes in a hospital setting. I collected and analyzed data from various sources, including electronic health records and medical imaging, to develop a predictive model. My approach resulted in an accuracy rate of 90%, which exceeded the desired threshold. The project demonstrated my ability to apply machine learning techniques to real-world problems and achieve meaningful results.\"\n",
      "\n",
      "--------------------------------------------------\n",
      "\n",
      "\n",
      "Question 3: Suppose you are working on a critical project with a tight deadline, and one of your team members is unable to complete their tasks on time. How would you handle this situation, and how would you ensure that the project is completed on time and to a high standard?\n",
      "Your answer: ask more time or do it by myself\n",
      "Feedback: Great effort in answering the question! Here are some suggestions to improve your response:\n",
      "\n",
      "1. Be more specific: Instead of just saying \"more time\" or \"by myself,\" could you provide a specific example of how you would handle the situation? For instance, \"If I had more time, I would have liked to conduct additional research to provide a more informed answer.\"\n",
      "2. Use action verbs: Try using action verbs like \"analyze,\" \"investigate,\" or \"research\" to convey your intentions. For example, \"I would analyze the problem further and gather more information before providing an answer.\"\n",
      "3. Show enthusiasm and engagement: Interviews are a great opportunity to showcase your passion and excitement for the role. Try to convey your eagerness to learn and grow by using phrases like \"I'm eager to learn\" or \"I'm excited to contribute.\"\n",
      "4. Avoid vague answers: While it's important to be honest, try to avoid giving overly vague answers that provide little insight into your thought process. Instead, focus on providing clear and concise responses that demonstrate your problem-solving skills.\n",
      "\n",
      "Remember, the interviewer wants to get a sense of how you think and approach problems. By being more specific and showing enthusiasm, you can make a stronger impression and demonstrate your potential value as a candidate.\n",
      "\n",
      "--------------------------------------------------\n",
      "\n"
     ]
    }
   ],
   "source": [
    "import subprocess\n",
    "import time\n",
    "\n",
    "# Store answers\n",
    "answers = []\n",
    "\n",
    "def ask_role_and_generate_questions():\n",
    "    print(\"Please enter the role you are interviewing for:\")\n",
    "    role = input(\"Role: \")\n",
    "\n",
    "    # Refined prompt to only ask for 3 relevant questions without extra text or explanations\n",
    "    prompt = f\"Generate three mock interview questions for a {role} role. Provide only the questions with no extra text or explanations. The questions should be relevant, one technical, one behavioral, and one situational.\"\n",
    "\n",
    "    # Get the questions from Llama based on the role\n",
    "    result = subprocess.run(\n",
    "        [\"ollama\", \"run\", \"llama2\", prompt], capture_output=True, text=True\n",
    "    )\n",
    "    \n",
    "    # Clean up the output to get only the questions\n",
    "    questions = result.stdout.strip().split(\"\\n\")\n",
    "    \n",
    "    # Only keep the actual questions, removing unwanted prefixes\n",
    "    questions = [q for q in questions if q and not any(prefix in q.lower() for prefix in ['technical', 'behavioral', 'situational'])]\n",
    "\n",
    "    if len(questions) < 3:\n",
    "        print(\"Something went wrong. Please try again.\")\n",
    "        return\n",
    "    \n",
    "    print(f\"\\n--- Questions for the role of {role} ---\")\n",
    "    for i, question in enumerate(questions):\n",
    "        print(f\"Question {i+1}: {question}\")\n",
    "    \n",
    "    print(\"\\nStarting the interview. Answer the following questions one by one.\\n\")\n",
    "    \n",
    "    # Ask each question and collect answers\n",
    "    for i, question in enumerate(questions):\n",
    "        print(f\"Question {i+1}: {question}\")\n",
    "        answer = input(\"Your answer: \")\n",
    "        answers.append(answer)  # Store the answer\n",
    "        print(\"\\n\" + \"-\"*50 + \"\\n\")\n",
    "        time.sleep(1)  # Give some time before the next question\n",
    "    \n",
    "    # Provide dynamic feedback\n",
    "    provide_dynamic_feedback(questions)\n",
    "\n",
    "def provide_dynamic_feedback(questions):\n",
    "    print(\"\\n--- Feedback ---\")\n",
    "    \n",
    "    for i, answer in enumerate(answers):\n",
    "        # Send the answer to Llama to generate feedback dynamically\n",
    "        prompt = f\"Provide concise feedback for this answer based on best practices for interview responses.\\nAnswer: {answer}\\nFeedback:\"\n",
    "        \n",
    "        # Call Llama to get feedback dynamically\n",
    "        result = subprocess.run(\n",
    "            [\"ollama\", \"run\", \"llama2\", prompt], capture_output=True, text=True\n",
    "        )\n",
    "        \n",
    "        feedback = result.stdout.strip()\n",
    "        \n",
    "        print(f\"\\nQuestion {i+1}: {questions[i]}\")\n",
    "        print(f\"Your answer: {answer}\")\n",
    "        print(f\"Feedback: {feedback}\")\n",
    "        print(\"\\n\" + \"-\"*50 + \"\\n\")\n",
    "\n",
    "# Start the process\n",
    "ask_role_and_generate_questions()\n"
   ]
  },
  {
   "cell_type": "code",
   "execution_count": 4,
   "id": "cc8d0d43-9085-4eb3-b784-54b646667278",
   "metadata": {},
   "outputs": [
    {
     "name": "stdin",
     "output_type": "stream",
     "text": [
      "Please enter the role you are interviewing for:  jav developer\n"
     ]
    },
    {
     "name": "stdout",
     "output_type": "stream",
     "text": [
      "Model: Tell me about a time when you worked on a team project.\n",
      "Listening for your answer...\n",
      "Processing your answer...\n"
     ]
    },
    {
     "name": "stderr",
     "output_type": "stream",
     "text": [
      "/Library/Frameworks/Python.framework/Versions/3.13/lib/python3.13/site-packages/whisper/transcribe.py:132: UserWarning: FP16 is not supported on CPU; using FP32 instead\n",
      "  warnings.warn(\"FP16 is not supported on CPU; using FP32 instead\")\n"
     ]
    },
    {
     "name": "stdout",
     "output_type": "stream",
     "text": [
      "User's Response:  I have worked on a team project doing my capstone in my file.\n"
     ]
    }
   ],
   "source": [
    "import whisper\n",
    "import pyttsx3  # For text-to-speech\n",
    "import speech_recognition as sr  # For speech-to-text\n",
    "import numpy as np\n",
    "import wave\n",
    "import time\n",
    "\n",
    "# Initialize Whisper for STT\n",
    "whisper_model = whisper.load_model(\"base\")  # Or use another model size\n",
    "recognizer = sr.Recognizer()\n",
    "\n",
    "# Initialize pyttsx3 for TTS\n",
    "engine = pyttsx3.init()\n",
    "\n",
    "# Function to generate speech\n",
    "def text_to_speech(text):\n",
    "    engine.say(text)\n",
    "    engine.runAndWait()\n",
    "\n",
    "# Function for speech-to-text using Whisper\n",
    "def speech_to_text():\n",
    "    with sr.Microphone() as source:\n",
    "        print(\"Listening for your answer...\")\n",
    "        audio = recognizer.listen(source)\n",
    "        print(\"Processing your answer...\")\n",
    "\n",
    "        # Convert AudioData to WAV file\n",
    "        with open(\"user_audio.wav\", \"wb\") as f:\n",
    "            f.write(audio.get_wav_data())\n",
    "\n",
    "        # Load the audio file with Whisper\n",
    "        result = whisper_model.transcribe(\"user_audio.wav\")\n",
    "        return result['text']\n",
    "\n",
    "# Function to simulate model interaction (Generate a question)\n",
    "def generate_question(role):\n",
    "    if role == \"java developer\":\n",
    "        return \"What is your experience with multithreading in Java?\"\n",
    "    elif role == \"data analyst\":\n",
    "        return \"Can you explain how you would approach cleaning a large dataset?\"\n",
    "    else:\n",
    "        return \"Tell me about a time when you worked on a team project.\"\n",
    "\n",
    "# Main interaction loop\n",
    "def interview(role):\n",
    "    # Generate the question\n",
    "    question = generate_question(role)\n",
    "    \n",
    "    # Convert the question to speech\n",
    "    print(f\"Model: {question}\")\n",
    "    text_to_speech(question)\n",
    "    \n",
    "    # Get user's response through speech-to-text\n",
    "    user_response = speech_to_text()\n",
    "    \n",
    "    # Print and return the user's response\n",
    "    print(f\"User's Response: {user_response}\")\n",
    "    \n",
    "    # Add a mechanism to break out of the loop after the user gives a valid answer\n",
    "    if len(user_response.strip()) > 0:\n",
    "        return user_response\n",
    "    else:\n",
    "        print(\"No valid input detected, please try again.\")\n",
    "        return None\n",
    "\n",
    "# Start the interview\n",
    "role = input(\"Please enter the role you are interviewing for: \")\n",
    "\n",
    "while True:\n",
    "    response = interview(role)\n",
    "    if response:\n",
    "        break  # Exit the loop once a valid response is given\n",
    "    else:\n",
    "        time.sleep(2)  # Wait for a bit before retrying\n"
   ]
  },
  {
   "cell_type": "code",
   "execution_count": 5,
   "id": "33934838-a8de-4f5d-8615-e41808ae7066",
   "metadata": {},
   "outputs": [],
   "source": [
    "##Integrated"
   ]
  },
  {
   "cell_type": "code",
   "execution_count": 6,
   "id": "a76a6a50-c4cd-4495-9c70-6d16525c8d35",
   "metadata": {},
   "outputs": [
    {
     "name": "stdout",
     "output_type": "stream",
     "text": [
      "Please enter the role you are interviewing for:\n"
     ]
    },
    {
     "name": "stdin",
     "output_type": "stream",
     "text": [
      "Role:  java developer\n"
     ]
    },
    {
     "name": "stdout",
     "output_type": "stream",
     "text": [
      "\n",
      "--- Questions for the role of java developer ---\n",
      "Question 1: 1. How do you optimize the performance of a Java application by using multi-threading?\n",
      "Question 2: 2. Can you describe a time when you had to work on a project with a tight deadline? How did you manage your time and resources to meet the deadline?\n",
      "Question 3: 3. Imagine you are working on a team project, and one of your colleagues is not pulling their weight. How would you handle the situation in a professional manner?\n",
      "\n",
      "Starting the interview. Answer the following questions one by one.\n",
      "\n",
      "Listening for your answer...\n",
      "Recording...\n",
      "Recording finished.\n"
     ]
    },
    {
     "name": "stderr",
     "output_type": "stream",
     "text": [
      "/Library/Frameworks/Python.framework/Versions/3.13/lib/python3.13/site-packages/whisper/transcribe.py:132: UserWarning: FP16 is not supported on CPU; using FP32 instead\n",
      "  warnings.warn(\"FP16 is not supported on CPU; using FP32 instead\")\n"
     ]
    },
    {
     "name": "stdout",
     "output_type": "stream",
     "text": [
      "Your answer:  Ah, Kak Summan aku bana. Pudila, ah, okey aku mulai ya. Namah.\n",
      "\n",
      "--------------------------------------------------\n",
      "\n",
      "Listening for your answer...\n",
      "Recording...\n",
      "Recording finished.\n"
     ]
    },
    {
     "name": "stderr",
     "output_type": "stream",
     "text": [
      "/Library/Frameworks/Python.framework/Versions/3.13/lib/python3.13/site-packages/whisper/transcribe.py:132: UserWarning: FP16 is not supported on CPU; using FP32 instead\n",
      "  warnings.warn(\"FP16 is not supported on CPU; using FP32 instead\")\n"
     ]
    },
    {
     "name": "stdout",
     "output_type": "stream",
     "text": [
      "Your answer:  bhajda\n",
      "\n",
      "--------------------------------------------------\n",
      "\n",
      "Listening for your answer...\n",
      "Recording...\n",
      "Recording finished.\n"
     ]
    },
    {
     "name": "stderr",
     "output_type": "stream",
     "text": [
      "/Library/Frameworks/Python.framework/Versions/3.13/lib/python3.13/site-packages/whisper/transcribe.py:132: UserWarning: FP16 is not supported on CPU; using FP32 instead\n",
      "  warnings.warn(\"FP16 is not supported on CPU; using FP32 instead\")\n"
     ]
    },
    {
     "name": "stdout",
     "output_type": "stream",
     "text": [
      "Your answer: コリエナーコリエナーコリエナーエナズイエンゲワンサッタンゲークだ\n",
      "\n",
      "--------------------------------------------------\n",
      "\n",
      "\n",
      "--- Feedback ---\n",
      "\n",
      "Question 1: 1. How do you optimize the performance of a Java application by using multi-threading?\n",
      "Your answer:  Ah, Kak Summan aku bana. Pudila, ah, okey aku mulai ya. Namah.\n",
      "Feedback: While the candidate's response is creative and shows personality, it may not be the most effective answer in an interview setting for several reasons:\n",
      "\n",
      "1. Lack of clarity: The candidate's response is difficult to understand due to the use of slang and colloquial language. It would be better to use clear and concise language that can be easily understood by the interviewer.\n",
      "2. Lack of focus: The candidate's response does not directly address the question being asked. It would be better to provide a clear and focused answer that addresses the interviewer's concerns.\n",
      "3. Inappropriate tone: The candidate's response comes across as casual and disrespectful, which may not be appropriate in a professional setting. It would be better to use a more professional tone throughout the interview.\n",
      "\n",
      "Overall, the candidate's response could benefit from being more clear, focused, and professional in nature.\n",
      "\n",
      "--------------------------------------------------\n",
      "\n",
      "\n",
      "Question 2: 2. Can you describe a time when you had to work on a project with a tight deadline? How did you manage your time and resources to meet the deadline?\n",
      "Your answer:  bhajda\n",
      "Feedback: Overall, your response is brief and to the point. However, there are a few areas where you could improve:\n",
      "\n",
      "1. Use of keywords: Make sure to include relevant keywords from the job posting in your answer. This will help the interviewer understand how your skills and experience align with the position. In this case, you could mention \"customer service,\" \"problem-solving,\" and \"teamwork.\"\n",
      "2. Explain your answer: While you provided a clear yes or no response, it would be helpful to elaborate on why you chose that answer. For example, you could explain how you demonstrated customer service skills in a previous role or how you worked with a team to solve a problem.\n",
      "3. Use of action verbs: Try to use action verbs like \"managed,\" \"created,\" and \"improved\" instead of simply stating your responsibilities. This will help bring your answer to life and show the interviewer how you contributed to your previous roles.\n",
      "\n",
      "Here's an example of how you could improve your response based on these best practices:\n",
      "\n",
      "\"Yes, I have demonstrated strong customer service skills in my previous role as a customer service representative. I managed a high volume of customer inquiries and complaints, and I created a detailed knowledge base to help customers find answers to their questions more efficiently. Additionally, I worked closely with cross-functional teams to identify and resolve issues that impacted customer satisfaction. Through these efforts, I improved customer satisfaction scores by 20% within six months.\"\n",
      "\n",
      "--------------------------------------------------\n",
      "\n",
      "\n",
      "Question 3: 3. Imagine you are working on a team project, and one of your colleagues is not pulling their weight. How would you handle the situation in a professional manner?\n",
      "Your answer: コリエナーコリエナーコリエナーエナズイエンゲワンサッタンゲークだ\n",
      "Feedback: While the response is creative and playful, it does not directly address the question asked. The interviewer is looking for a concise and professional response to this question, so I would suggest revising the answer to something like:\n",
      "\n",
      "\"I'm a highly motivated and detail-oriented individual with a passion for web development. I have experience working on various projects, including building and maintaining websites, creating custom themes, and troubleshooting technical issues. My goal is to continue learning and growing as a developer, while also contributing to a team that values creativity and collaboration.\"\n",
      "\n",
      "This response provides a clear and concise overview of the candidate's experience and goals, while also highlighting their enthusiasm for web development. It shows that they are willing to learn and grow, and that they value collaboration and teamwork.\n",
      "\n",
      "--------------------------------------------------\n",
      "\n"
     ]
    }
   ],
   "source": [
    "import whisper\n",
    "import pyaudio\n",
    "import wave\n",
    "import numpy as np\n",
    "import time\n",
    "import os\n",
    "import platform\n",
    "import subprocess\n",
    "from gtts import gTTS\n",
    "\n",
    "# Initialize Whisper model\n",
    "model = whisper.load_model(\"base\")  # You can choose a different model like 'small', 'medium', 'large' etc.\n",
    "\n",
    "# Setup microphone input\n",
    "p = pyaudio.PyAudio()\n",
    "\n",
    "# Define recording parameters\n",
    "FORMAT = pyaudio.paInt16\n",
    "CHANNELS = 1\n",
    "RATE = 16000\n",
    "CHUNK = 1024\n",
    "RECORD_SECONDS = 10  # Adjust the recording duration\n",
    "\n",
    "# Initialize list to store answers\n",
    "answers = []\n",
    "\n",
    "# Function for speech-to-text using Whisper\n",
    "def record_and_transcribe():\n",
    "    print(\"Recording...\")\n",
    "\n",
    "    # Open the audio stream\n",
    "    stream = p.open(format=FORMAT, channels=CHANNELS, rate=RATE,\n",
    "                    input=True, frames_per_buffer=CHUNK)\n",
    "\n",
    "    frames = []\n",
    "\n",
    "    # Record for the defined duration\n",
    "    for _ in range(0, int(RATE / CHUNK * RECORD_SECONDS)):\n",
    "        data = stream.read(CHUNK)\n",
    "        frames.append(data)\n",
    "\n",
    "    print(\"Recording finished.\")\n",
    "    stream.stop_stream()\n",
    "    stream.close()\n",
    "\n",
    "    # Save the recorded audio to a temporary file\n",
    "    wf = wave.open(\"temp.wav\", 'wb')\n",
    "    wf.setnchannels(CHANNELS)\n",
    "    wf.setsampwidth(p.get_sample_size(FORMAT))\n",
    "    wf.setframerate(RATE)\n",
    "    wf.writeframes(b''.join(frames))\n",
    "    wf.close()\n",
    "\n",
    "    # Transcribe the audio using Whisper\n",
    "    result = model.transcribe(\"temp.wav\")\n",
    "    transcription = result[\"text\"]\n",
    "\n",
    "    # Return the transcription\n",
    "    return transcription\n",
    "\n",
    "# Function for text-to-speech using gTTS\n",
    "def text_to_speech(text):\n",
    "    tts = gTTS(text=text, lang='en')\n",
    "    tts.save(\"output.mp3\")\n",
    "\n",
    "    # Play the audio file based on the OS\n",
    "    if platform.system() == \"Windows\":\n",
    "        os.system(\"start output.mp3\")  # Windows\n",
    "    elif platform.system() == \"Darwin\":  # macOS\n",
    "        os.system(\"afplay output.mp3\")\n",
    "    elif platform.system() == \"Linux\":\n",
    "        os.system(\"mpg321 output.mp3\")  # Make sure mpg321 is installed on Linux\n",
    "\n",
    "# Function to generate interview questions based on the role\n",
    "def ask_role_and_generate_questions():\n",
    "    print(\"Please enter the role you are interviewing for:\")\n",
    "    role = input(\"Role: \")\n",
    "\n",
    "    prompt = f\"Generate three mock interview questions for a {role} role. Provide only the questions with no extra text or explanations. The questions should be relevant, one technical, one behavioral, and one situational.\"\n",
    "\n",
    "    # Generate questions using the Llama model\n",
    "    result = subprocess.run(\n",
    "        [\"ollama\", \"run\", \"llama2\", prompt], capture_output=True, text=True\n",
    "    )\n",
    "\n",
    "    # Clean and format the output to get only the questions\n",
    "    questions = result.stdout.strip().split(\"\\n\")\n",
    "    questions = [q.strip() for q in questions if q.strip()]\n",
    "\n",
    "    if len(questions) < 3:\n",
    "        print(\"Something went wrong. Please try again.\")\n",
    "        return\n",
    "\n",
    "    # Print the questions\n",
    "    print(f\"\\n--- Questions for the role of {role} ---\")\n",
    "    for i, question in enumerate(questions):\n",
    "        print(f\"Question {i+1}: {question}\")\n",
    "\n",
    "    # Proceed with the interview\n",
    "    print(\"\\nStarting the interview. Answer the following questions one by one.\\n\")\n",
    "\n",
    "    # Ask each question and collect answers\n",
    "    for i, question in enumerate(questions):\n",
    "        # Convert question to speech\n",
    "        text_to_speech(question)\n",
    "\n",
    "        # Capture and transcribe the user's answer\n",
    "        print(f\"Listening for your answer...\")\n",
    "        answer = record_and_transcribe()\n",
    "        \n",
    "        # Store the answer\n",
    "        answers.append(answer)\n",
    "        print(f\"Your answer: {answer}\")\n",
    "        print(\"\\n\" + \"-\" * 50 + \"\\n\")\n",
    "        time.sleep(1)  # Give some time before the next question\n",
    "\n",
    "    # Provide dynamic feedback based on answers\n",
    "    provide_dynamic_feedback(questions)\n",
    "\n",
    "# Function to provide dynamic feedback using the model\n",
    "def provide_dynamic_feedback(questions):\n",
    "    print(\"\\n--- Feedback ---\")\n",
    "    \n",
    "    for i, answer in enumerate(answers):\n",
    "        # Send the answer to Llama to generate feedback dynamically\n",
    "        prompt = f\"Provide concise feedback for this answer based on best practices for interview responses.\\nAnswer: {answer}\\nFeedback:\"\n",
    "        \n",
    "        # Get feedback from the Llama model\n",
    "        result = subprocess.run(\n",
    "            [\"ollama\", \"run\", \"llama2\", prompt], capture_output=True, text=True\n",
    "        )\n",
    "        \n",
    "        feedback = result.stdout.strip()\n",
    "        \n",
    "        print(f\"\\nQuestion {i+1}: {questions[i]}\")\n",
    "        print(f\"Your answer: {answer}\")\n",
    "        print(f\"Feedback: {feedback}\")\n",
    "        print(\"\\n\" + \"-\" * 50 + \"\\n\")\n",
    "\n",
    "# Start the process\n",
    "ask_role_and_generate_questions()\n"
   ]
  },
  {
   "cell_type": "code",
   "execution_count": null,
   "id": "a20d4b17-4d6b-42ef-adc6-e240fc07fc18",
   "metadata": {},
   "outputs": [],
   "source": []
  }
 ],
 "metadata": {
  "kernelspec": {
   "display_name": "Python 3 (ipykernel)",
   "language": "python",
   "name": "python3"
  },
  "language_info": {
   "codemirror_mode": {
    "name": "ipython",
    "version": 3
   },
   "file_extension": ".py",
   "mimetype": "text/x-python",
   "name": "python",
   "nbconvert_exporter": "python",
   "pygments_lexer": "ipython3",
   "version": "3.13.2"
  }
 },
 "nbformat": 4,
 "nbformat_minor": 5
}
